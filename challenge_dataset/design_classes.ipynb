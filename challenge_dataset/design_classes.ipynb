{
 "cells": [
  {
   "cell_type": "code",
   "execution_count": 1,
   "metadata": {},
   "outputs": [],
   "source": [
    "import json\n",
    "import numpy as np\n",
    "from tqdm import tqdm\n",
    "from scipy.ndimage import gaussian_filter1d\n",
    "import matplotlib.pyplot as plt"
   ]
  },
  {
   "cell_type": "code",
   "execution_count": 2,
   "metadata": {},
   "outputs": [],
   "source": [
    "# GLOBAL PARAMETERS\n",
    "\n",
    "shift_range = 50 # for now, we shift all peaks independently\n",
    "variation_range = 0.05 # +/- of absolute height for each peak\n",
    "kernel_range = (2, 5) # min and max for guassian kernel sizes"
   ]
  },
  {
   "cell_type": "code",
   "execution_count": 3,
   "metadata": {},
   "outputs": [],
   "source": [
    "# less variation for test data\n",
    "test_shift = 30 \n",
    "test_var = 0.03"
   ]
  },
  {
   "cell_type": "code",
   "execution_count": 4,
   "metadata": {},
   "outputs": [],
   "source": [
    "# PARAMETERS\n",
    "n_datapoints = 5000\n",
    "boundary = 100\n",
    "n_classes = 9\n",
    "min_peaks = 2\n",
    "max_peaks = 10\n",
    "max_height = 100\n",
    "\n",
    "config = {\n",
    "    'datapoints' : n_datapoints,\n",
    "    'boundary' : boundary,\n",
    "    'classes' : n_classes,\n",
    "    'min_peaks' : min_peaks,\n",
    "    'max_peaks' : max_peaks,\n",
    "    'max_height' : max_height\n",
    "}"
   ]
  },
  {
   "cell_type": "code",
   "execution_count": 5,
   "metadata": {},
   "outputs": [],
   "source": [
    "# minor peaks\n",
    "spectra = {\n",
    "    # triplet 1\n",
    "    0 : {\"peak_positions\" : [700, 3000], \"peak_heights\" : [0.7, 1.0]},\n",
    "    1 : {\"peak_positions\" : [700, 1800, 3000], \"peak_heights\" : [0.7, 0.045, 1.0]},\n",
    "    2 : {\"peak_positions\" : [700, 3000, 4200], \"peak_heights\" : [0.7, 1.0, 0.045]},\n",
    "    # triplet 2\n",
    "    3 : {\"peak_positions\" : [920, 1115], \"peak_heights\" : [1.0, 0.4]},\n",
    "    4 : {\"peak_positions\" : [923, 1112, 1500], \"peak_heights\" : [1.0, 0.4, 0.045]},\n",
    "    5 : {\"peak_positions\" : [918, 1116, 1630], \"peak_heights\" : [1.0, 0.4, 0.045]},\n",
    "    # triplet 3\n",
    "    6 : {\"peak_positions\" : [500, 2100], \"peak_heights\" : [0.9, 1.0]},\n",
    "    7 : {\"peak_positions\" : [500, 2100, 2260], \"peak_heights\" : [0.9, 1.0, 0.045]},\n",
    "    8 : {\"peak_positions\" : [500, 2100, 2260, 2750], \"peak_heights\" : [0.9, 1.0, 0.045, 0.045]},\n",
    "}\n",
    "\n",
    "config['spectra'] = spectra\n",
    "with open('test.json', 'w') as file:\n",
    "    json.dump(config, file)"
   ]
  },
  {
   "cell_type": "code",
   "execution_count": 6,
   "metadata": {},
   "outputs": [],
   "source": [
    "# position overlap\n",
    "spectra = {\n",
    "    # triplet 1\n",
    "    0 : {\"peak_positions\" : [700, 3000], \"peak_heights\" : [1.0, 0.7]},\n",
    "    1 : {\"peak_positions\" : [700, 3070], \"peak_heights\" : [1.0, 0.7]},\n",
    "    2 : {\"peak_positions\" : [700, 3140], \"peak_heights\" : [1.0, 0.7]},\n",
    "    # triplet 2\n",
    "    3 : {\"peak_positions\" : [1230, 2103], \"peak_heights\" : [0.15, 1.0]},\n",
    "    4 : {\"peak_positions\" : [1300, 2101], \"peak_heights\" : [0.15, 1.0]},\n",
    "    5 : {\"peak_positions\" : [1370, 2098], \"peak_heights\" : [0.15, 1.0]},\n",
    "    # triplet 3\n",
    "    6 : {\"peak_positions\" : [1230, 1750, 4700], \"peak_heights\" : [0.15, 0.2, 1.0]},\n",
    "    7 : {\"peak_positions\" : [1300, 1820, 4700], \"peak_heights\" : [0.15, 0.2, 1.0]},\n",
    "    8 : {\"peak_positions\" : [1370, 1890, 4700], \"peak_heights\" : [0.15, 0.2, 1.0]},\n",
    "}\n",
    "\n",
    "config['spectra'] = spectra\n",
    "with open('test.json', 'w') as file:\n",
    "    json.dump(config, file)"
   ]
  },
  {
   "cell_type": "code",
   "execution_count": 7,
   "metadata": {},
   "outputs": [],
   "source": [
    "xt = np.load('./x_train.npy')\n",
    "xtest = np.load('./x_test.npy')\n",
    "\n",
    "xt /= np.max(xt, axis=1, keepdims=True)\n",
    "xtest /= np.max(xtest, axis=1, keepdims=True)"
   ]
  },
  {
   "cell_type": "code",
   "execution_count": 8,
   "metadata": {},
   "outputs": [],
   "source": [
    "pos_train = np.argmax(xt[:,1000:], axis=1)\n",
    "hi_train = np.max(xt[:,1000:], axis=1)\n",
    "\n",
    "pos_test = np.argmax(xtest[:,1000:], axis=1)\n",
    "hi_test = np.max(xtest[:,1000:], axis=1)"
   ]
  },
  {
   "cell_type": "code",
   "execution_count": 9,
   "metadata": {},
   "outputs": [
    {
     "data": {
      "image/png": "[encoded data removed]",
      "text/plain": [
       "<Figure size 1200x500 with 1 Axes>"
      ]
     },
     "metadata": {},
     "output_type": "display_data"
    }
   ],
   "source": [
    "plt.figure(figsize=(12,5))\n",
    "plt.scatter(pos_train[:50], hi_train[:50])\n",
    "plt.scatter(pos_train[50:100], hi_train[50:100])\n",
    "plt.scatter(pos_train[100:150], hi_train[100:150])\n",
    "plt.scatter(pos_test[:9], hi_test[:9], marker='d', c='C0')\n",
    "plt.scatter(pos_test[9:18], hi_test[9:18], marker='d', c='C1')\n",
    "plt.scatter(pos_test[18:27], hi_test[18:27], marker='d', c='C2')\n",
    "plt.show()"
   ]
  },
  {
   "cell_type": "code",
   "execution_count": 10,
   "metadata": {},
   "outputs": [],
   "source": [
    "# intensity overlap\n",
    "spectra = {\n",
    "    # triplet 1\n",
    "    0 : {\"peak_positions\" : [920, 1500], \"peak_heights\" : [0.08, 1.0]},\n",
    "    1 : {\"peak_positions\" : [920, 1500], \"peak_heights\" : [0.155, 1.0]},\n",
    "    2 : {\"peak_positions\" : [920, 1500], \"peak_heights\" : [0.23, 1.0]},\n",
    "    # triplet 2\n",
    "    3 : {\"peak_positions\" : [1147, 2261], \"peak_heights\" : [1.0, 0.20]},\n",
    "    4 : {\"peak_positions\" : [1151, 2258], \"peak_heights\" : [1.0, 0.275]},\n",
    "    5 : {\"peak_positions\" : [1153, 2262], \"peak_heights\" : [1.0, 0.35]},\n",
    "    # triplet 3\n",
    "    6 : {\"peak_positions\" : [302, 2750, 4198], \"peak_heights\" : [0.08, 1.0, 0.22]},\n",
    "    7 : {\"peak_positions\" : [300, 2750, 4200], \"peak_heights\" : [0.155, 1.0, 0.21]},\n",
    "    8 : {\"peak_positions\" : [299, 2750, 4202], \"peak_heights\" : [0.23, 1.0, 0.23]},\n",
    "}"
   ]
  },
  {
   "cell_type": "code",
   "execution_count": 11,
   "metadata": {},
   "outputs": [],
   "source": [
    "# combination\n",
    "config[\"classes\"] = 27\n",
    "spectra = {\n",
    "    # triplet 1\n",
    "    0 : {\"peak_positions\" : [700, 3000], \"peak_heights\" : [0.7, 1.0]},\n",
    "    1 : {\"peak_positions\" : [700, 1800, 3000], \"peak_heights\" : [0.7, 0.035, 1.0]},\n",
    "    2 : {\"peak_positions\" : [700, 3000, 4200], \"peak_heights\" : [0.7, 1.0, 0.035]},\n",
    "    # triplet 2\n",
    "    3 : {\"peak_positions\" : [920, 1115], \"peak_heights\" : [1.0, 0.4]},\n",
    "    4 : {\"peak_positions\" : [923, 1112, 1500], \"peak_heights\" : [1.0, 0.4, 0.035]},\n",
    "    5 : {\"peak_positions\" : [918, 1116, 1630], \"peak_heights\" : [1.0, 0.4, 0.035]},\n",
    "    # triplet 3\n",
    "    6 : {\"peak_positions\" : [500, 2100], \"peak_heights\" : [0.9, 1.0]},\n",
    "    7 : {\"peak_positions\" : [500, 2100, 2260], \"peak_heights\" : [0.9, 1.0, 0.035]},\n",
    "    8 : {\"peak_positions\" : [500, 2100, 2260, 2750], \"peak_heights\" : [0.9, 1.0, 0.035, 0.035]},\n",
    "    # triplet 4\n",
    "    9 : {\"peak_positions\" : [700, 3000], \"peak_heights\" : [1.0, 0.7]},\n",
    "    10 : {\"peak_positions\" : [700, 3070], \"peak_heights\" : [1.0, 0.7]},\n",
    "    11 : {\"peak_positions\" : [700, 3140], \"peak_heights\" : [1.0, 0.7]},\n",
    "    # triplet 5\n",
    "    12 : {\"peak_positions\" : [1230, 2103], \"peak_heights\" : [0.15, 1.0]},\n",
    "    13 : {\"peak_positions\" : [1300, 2101], \"peak_heights\" : [0.15, 1.0]},\n",
    "    14 : {\"peak_positions\" : [1370, 2098], \"peak_heights\" : [0.15, 1.0]},\n",
    "    # triplet 6\n",
    "    15 : {\"peak_positions\" : [1230, 1750, 4700], \"peak_heights\" : [0.15, 0.2, 1.0]},\n",
    "    16 : {\"peak_positions\" : [1300, 1820, 4700], \"peak_heights\" : [0.15, 0.2, 1.0]},\n",
    "    17 : {\"peak_positions\" : [1370, 1890, 4700], \"peak_heights\" : [0.15, 0.2, 1.0]},\n",
    "    # triplet 7\n",
    "    18 : {\"peak_positions\" : [920, 1500], \"peak_heights\" : [0.08, 1.0]},\n",
    "    19 : {\"peak_positions\" : [920, 1500], \"peak_heights\" : [0.155, 1.0]},\n",
    "    20 : {\"peak_positions\" : [920, 1500], \"peak_heights\" : [0.23, 1.0]},\n",
    "    # triplet 8\n",
    "    21 : {\"peak_positions\" : [1147, 2261], \"peak_heights\" : [1.0, 0.20]},\n",
    "    22 : {\"peak_positions\" : [1151, 2258], \"peak_heights\" : [1.0, 0.275]},\n",
    "    23 : {\"peak_positions\" : [1153, 2262], \"peak_heights\" : [1.0, 0.35]},\n",
    "    # triplet 9\n",
    "    24 : {\"peak_positions\" : [302, 2750, 4198], \"peak_heights\" : [0.08, 1.0, 0.22]},\n",
    "    25 : {\"peak_positions\" : [300, 2750, 4200], \"peak_heights\" : [0.155, 1.0, 0.21]},\n",
    "    26 : {\"peak_positions\" : [299, 2750, 4202], \"peak_heights\" : [0.23, 1.0, 0.23]},\n",
    "}\n",
    "\n",
    "config['spectra'] = spectra\n",
    "with open('challenge.json', 'w') as file:\n",
    "    json.dump(config, file)"
   ]
  },
  {
   "cell_type": "code",
   "execution_count": null,
   "metadata": {},
   "outputs": [],
   "source": []
  }
 ],
 "metadata": {
  "kernelspec": {
   "display_name": "tf210",
   "language": "python",
   "name": "python3"
  },
  "language_info": {
   "codemirror_mode": {
    "name": "ipython",
    "version": 3
   },
   "file_extension": ".py",
   "mimetype": "text/x-python",
   "name": "python",
   "nbconvert_exporter": "python",
   "pygments_lexer": "ipython3",
   "version": "3.10.6"
  },
  "orig_nbformat": 4,
  "vscode": {
   "interpreter": {
    "hash": "b368d0cbbea2ac911f09db60275f803013c4f2a23209db44b80dde6a15dc058d"
   }
  }
 },
 "nbformat": 4,
 "nbformat_minor": 2
}
